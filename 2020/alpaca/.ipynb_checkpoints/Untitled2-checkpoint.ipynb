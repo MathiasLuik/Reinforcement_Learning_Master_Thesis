{
 "cells": [
  {
   "cell_type": "code",
   "execution_count": null,
   "metadata": {},
   "outputs": [
    {
     "name": "stderr",
     "output_type": "stream",
     "text": [
      "Exception in thread Thread-7:\n",
      "Traceback (most recent call last):\n",
      "  File \"C:\\Users\\Mathias Luik\\Anaconda3\\Lib\\threading.py\", line 926, in _bootstrap_inner\n",
      "    self.run()\n",
      "  File \"C:\\Users\\Mathias Luik\\Anaconda3\\Lib\\threading.py\", line 870, in run\n",
      "    self._target(*self._args, **self._kwargs)\n",
      "  File \"C:\\Users\\Mathias Luik\\Anaconda3\\envs\\mathias_thesis_alpaca\\lib\\site-packages\\alpaca_backtrader_api\\alpacastore.py\", line 309, in _t_streaming_events\n",
      "    base_url=self.p.base_url)\n",
      "  File \"C:\\Users\\Mathias Luik\\Anaconda3\\envs\\mathias_thesis_alpaca\\lib\\site-packages\\alpaca_backtrader_api\\alpacastore.py\", line 91, in __init__\n",
      "    self.conn = tradeapi.StreamConn(api_key, api_secret, base_url)\n",
      "  File \"C:\\Users\\Mathias Luik\\Anaconda3\\envs\\mathias_thesis_alpaca\\lib\\site-packages\\alpaca_trade_api\\stream2.py\", line 27, in __init__\n",
      "    self.loop = asyncio.get_event_loop()\n",
      "  File \"C:\\Users\\Mathias Luik\\Anaconda3\\Lib\\asyncio\\events.py\", line 644, in get_event_loop\n",
      "    % threading.current_thread().name)\n",
      "RuntimeError: There is no current event loop in thread 'Thread-7'.\n",
      "\n",
      "Exception in thread Thread-11:\n",
      "Traceback (most recent call last):\n",
      "  File \"C:\\Users\\Mathias Luik\\Anaconda3\\Lib\\threading.py\", line 926, in _bootstrap_inner\n",
      "    self.run()\n",
      "  File \"C:\\Users\\Mathias Luik\\Anaconda3\\Lib\\threading.py\", line 870, in run\n",
      "    self._target(*self._args, **self._kwargs)\n",
      "  File \"C:\\Users\\Mathias Luik\\Anaconda3\\envs\\mathias_thesis_alpaca\\lib\\site-packages\\alpaca_backtrader_api\\alpacastore.py\", line 416, in _t_streaming_prices\n",
      "    base_url=self.p.base_url)\n",
      "  File \"C:\\Users\\Mathias Luik\\Anaconda3\\envs\\mathias_thesis_alpaca\\lib\\site-packages\\alpaca_backtrader_api\\alpacastore.py\", line 91, in __init__\n",
      "    self.conn = tradeapi.StreamConn(api_key, api_secret, base_url)\n",
      "  File \"C:\\Users\\Mathias Luik\\Anaconda3\\envs\\mathias_thesis_alpaca\\lib\\site-packages\\alpaca_trade_api\\stream2.py\", line 27, in __init__\n",
      "    self.loop = asyncio.get_event_loop()\n",
      "  File \"C:\\Users\\Mathias Luik\\Anaconda3\\Lib\\asyncio\\events.py\", line 644, in get_event_loop\n",
      "    % threading.current_thread().name)\n",
      "RuntimeError: There is no current event loop in thread 'Thread-11'.\n",
      "\n"
     ]
    }
   ],
   "source": [
    "import backtrader as bt\n",
    "import alpaca_backtrader_api\n",
    "\n",
    "class SmaCross(bt.SignalStrategy):\n",
    "    def __init__(self):\n",
    "        sma1, sma2 = bt.ind.SMA(period=10), bt.ind.SMA(period=30)\n",
    "        crossover = bt.ind.CrossOver(sma1, sma2)\n",
    "        self.signal_add(bt.SIGNAL_LONG, crossover)\n",
    "\n",
    "cerebro = bt.Cerebro()\n",
    "cerebro.addstrategy(SmaCross)\n",
    "\n",
    "store = alpaca_backtrader_api.AlpacaStore(\n",
    "    key_id='PKBZDO2KCJZ4JLLWPAPO',\n",
    "    secret_key='dkr5S5N5QkRpELpL/TRVV5Jd0sLFhNY63C8EOuho',\n",
    "    paper=True\n",
    ")\n",
    "\n",
    "broker = store.getbroker()  # or just alpaca_backtrader_api.AlpacaBroker()\n",
    "cerebro.setbroker(broker)\n",
    "\n",
    "DataFactory = store.getdata # or use alpaca_backtrader_api.AlpacaData\n",
    "data0 = DataFactory(dataname='AAPL', timeframe=bt.TimeFrame.TFrame(\"Days\"))  # Supported timeframes: \"Days\"/\"Minutes\"\n",
    "cerebro.adddata(data0)\n",
    "\n",
    "cerebro.run(exactbars=1)\n",
    "cerebro.plot()"
   ]
  },
  {
   "cell_type": "code",
   "execution_count": null,
   "metadata": {},
   "outputs": [],
   "source": []
  }
 ],
 "metadata": {
  "kernelspec": {
   "display_name": "Python 3",
   "language": "python",
   "name": "python3"
  },
  "language_info": {
   "codemirror_mode": {
    "name": "ipython",
    "version": 3
   },
   "file_extension": ".py",
   "mimetype": "text/x-python",
   "name": "python",
   "nbconvert_exporter": "python",
   "pygments_lexer": "ipython3",
   "version": "3.7.6"
  }
 },
 "nbformat": 4,
 "nbformat_minor": 4
}
