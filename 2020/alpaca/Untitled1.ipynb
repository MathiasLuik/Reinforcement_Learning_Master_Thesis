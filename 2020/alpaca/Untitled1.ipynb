{
 "cells": [
  {
   "cell_type": "code",
   "execution_count": 1,
   "metadata": {},
   "outputs": [
    {
     "ename": "ModuleNotFoundError",
     "evalue": "No module named 'pipeline_live'",
     "output_type": "error",
     "traceback": [
      "\u001b[1;31m---------------------------------------------------------------------------\u001b[0m",
      "\u001b[1;31mModuleNotFoundError\u001b[0m                       Traceback (most recent call last)",
      "\u001b[1;32m<ipython-input-1-f8dfd8735573>\u001b[0m in \u001b[0;36m<module>\u001b[1;34m\u001b[0m\n\u001b[1;32m----> 1\u001b[1;33m \u001b[1;32mfrom\u001b[0m \u001b[0mpipeline_live\u001b[0m\u001b[1;33m.\u001b[0m\u001b[0mengine\u001b[0m \u001b[1;32mimport\u001b[0m \u001b[0mLivePipelineEngine\u001b[0m\u001b[1;33m\u001b[0m\u001b[1;33m\u001b[0m\u001b[0m\n\u001b[0m\u001b[0;32m      2\u001b[0m \u001b[1;32mfrom\u001b[0m \u001b[0mpipeline_live\u001b[0m\u001b[1;33m.\u001b[0m\u001b[0mdata\u001b[0m\u001b[1;33m.\u001b[0m\u001b[0msources\u001b[0m\u001b[1;33m.\u001b[0m\u001b[0miex\u001b[0m \u001b[1;32mimport\u001b[0m \u001b[0mlist_symbols\u001b[0m\u001b[1;33m\u001b[0m\u001b[1;33m\u001b[0m\u001b[0m\n\u001b[0;32m      3\u001b[0m \u001b[1;32mfrom\u001b[0m \u001b[0mpipeline_live\u001b[0m\u001b[1;33m.\u001b[0m\u001b[0mdata\u001b[0m\u001b[1;33m.\u001b[0m\u001b[0malpaca\u001b[0m\u001b[1;33m.\u001b[0m\u001b[0mpricing\u001b[0m \u001b[1;32mimport\u001b[0m \u001b[0mUSEquityPricing\u001b[0m\u001b[1;33m\u001b[0m\u001b[1;33m\u001b[0m\u001b[0m\n\u001b[0;32m      4\u001b[0m \u001b[1;32mfrom\u001b[0m \u001b[0mpipeline_live\u001b[0m\u001b[1;33m.\u001b[0m\u001b[0mdata\u001b[0m\u001b[1;33m.\u001b[0m\u001b[0mpolygon\u001b[0m\u001b[1;33m.\u001b[0m\u001b[0mfundamentals\u001b[0m \u001b[1;32mimport\u001b[0m \u001b[0mPolygonCompany\u001b[0m\u001b[1;33m\u001b[0m\u001b[1;33m\u001b[0m\u001b[0m\n\u001b[0;32m      5\u001b[0m \u001b[1;32mfrom\u001b[0m \u001b[0mpipeline_live\u001b[0m\u001b[1;33m.\u001b[0m\u001b[0mdata\u001b[0m\u001b[1;33m.\u001b[0m\u001b[0miex\u001b[0m\u001b[1;33m.\u001b[0m\u001b[0mfactors\u001b[0m \u001b[1;32mimport\u001b[0m \u001b[0mAverageDollarVolume\u001b[0m\u001b[1;33m\u001b[0m\u001b[1;33m\u001b[0m\u001b[0m\n",
      "\u001b[1;31mModuleNotFoundError\u001b[0m: No module named 'pipeline_live'"
     ]
    }
   ],
   "source": [
    "from pipeline_live.engine import LivePipelineEngine\n",
    "from pipeline_live.data.sources.iex import list_symbols\n",
    "from pipeline_live.data.alpaca.pricing import USEquityPricing\n",
    "from pipeline_live.data.polygon.fundamentals import PolygonCompany\n",
    "from pipeline_live.data.iex.factors import AverageDollarVolume\n",
    "from zipline.pipeline import Pipeline\n",
    "\n",
    "eng = LivePipelineEngine(list_symbols)\n",
    "top5 = AverageDollarVolume(window_length=20).top(5)\n",
    "pipe = Pipeline({\n",
    "    'close': USEquityPricing.close.latest,\n",
    "    'marketcap': PolygonCompany.marketcap.latest,\n",
    "}, screen=top5)\n",
    "\n",
    "df = eng.run_pipeline(pipe)"
   ]
  },
  {
   "cell_type": "code",
   "execution_count": null,
   "metadata": {},
   "outputs": [],
   "source": []
  }
 ],
 "metadata": {
  "kernelspec": {
   "display_name": "Python 3",
   "language": "python",
   "name": "python3"
  },
  "language_info": {
   "codemirror_mode": {
    "name": "ipython",
    "version": 3
   },
   "file_extension": ".py",
   "mimetype": "text/x-python",
   "name": "python",
   "nbconvert_exporter": "python",
   "pygments_lexer": "ipython3",
   "version": "3.7.6"
  }
 },
 "nbformat": 4,
 "nbformat_minor": 4
}
