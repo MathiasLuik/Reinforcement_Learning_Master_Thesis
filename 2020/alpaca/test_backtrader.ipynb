{
 "cells": [
  {
   "cell_type": "code",
   "execution_count": 7,
   "metadata": {},
   "outputs": [
    {
     "name": "stdout",
     "output_type": "stream",
     "text": [
      "Starting Portfolio Value: 10000.00\n",
      "401 Client Error: Unauthorized for url: https://api.polygon.io/v1/historic/agg/day/AAPL?from=2019-01-01T00%3A00%3A00&to=2020-02-20T10%3A16%3A04.524683&apiKey=PKBZDO2KCJZ4JLLWPAPO\n"
     ]
    },
    {
     "data": {
      "text/plain": [
       "[<__main__.SmaCross at 0x24aa0df2d08>]"
      ]
     },
     "execution_count": 7,
     "metadata": {},
     "output_type": "execute_result"
    }
   ],
   "source": [
    "import alpaca_backtrader_api\n",
    "import backtrader as bt\n",
    "from datetime import datetime\n",
    "\n",
    "ALPACA_API_KEY = \"PKBZDO2KCJZ4JLLWPAPO\"\n",
    "ALPACA_SECRET_KEY = \"dkr5S5N5QkRpELpL/TRVV5Jd0sLFhNY63C8EOuho\"\n",
    "ALPACA_PAPER = True\n",
    "\n",
    "\n",
    "class SmaCross(bt.SignalStrategy):\n",
    "  def __init__(self):\n",
    "    sma1, sma2 = bt.ind.SMA(period=10), bt.ind.SMA(period=30)\n",
    "    crossover = bt.ind.CrossOver(sma1, sma2)\n",
    "    self.signal_add(bt.SIGNAL_LONG, crossover)\n",
    "\n",
    "\n",
    "cerebro = bt.Cerebro()\n",
    "cerebro.addstrategy(SmaCross)\n",
    "\n",
    "store = alpaca_backtrader_api.AlpacaStore(\n",
    "    key_id=ALPACA_API_KEY,\n",
    "    secret_key=ALPACA_SECRET_KEY,\n",
    "    paper=ALPACA_PAPER\n",
    ")\n",
    "\n",
    "if not ALPACA_PAPER:\n",
    "  broker = store.getbroker()  # or just alpaca_backtrader_api.AlpacaBroker()\n",
    "  cerebro.setbroker(broker)\n",
    "\n",
    "DataFactory = store.getdata  # or use alpaca_backtrader_api.AlpacaData\n",
    "data0 = DataFactory(dataname='AAPL', historical=True, fromdate=datetime(\n",
    "    2019, 1, 1), timeframe=bt.TimeFrame.Days)\n",
    "cerebro.adddata(data0)\n",
    "\n",
    "print('Starting Portfolio Value: %.2f' % cerebro.broker.getvalue())\n",
    "cerebro.run()\n",
    "#print('Final Portfolio Value: %.2f' % cerebro.broker.getvalue())\n",
    "#cerebro.plot()"
   ]
  },
  {
   "cell_type": "code",
   "execution_count": null,
   "metadata": {},
   "outputs": [],
   "source": []
  },
  {
   "cell_type": "code",
   "execution_count": null,
   "metadata": {},
   "outputs": [],
   "source": []
  }
 ],
 "metadata": {
  "kernelspec": {
   "display_name": "Python 3",
   "language": "python",
   "name": "python3"
  },
  "language_info": {
   "codemirror_mode": {
    "name": "ipython",
    "version": 3
   },
   "file_extension": ".py",
   "mimetype": "text/x-python",
   "name": "python",
   "nbconvert_exporter": "python",
   "pygments_lexer": "ipython3",
   "version": "3.7.6"
  }
 },
 "nbformat": 4,
 "nbformat_minor": 4
}
