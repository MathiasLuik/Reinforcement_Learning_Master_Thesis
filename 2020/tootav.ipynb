{
 "cells": [
  {
   "cell_type": "code",
   "execution_count": 2,
   "metadata": {},
   "outputs": [
    {
     "name": "stdout",
     "output_type": "stream",
     "text": [
      "Final Portfolio Value: 100023.14\n"
     ]
    },
    {
     "data": {
      "text/plain": [
       "[[<Figure size 1437x1102.5 with 5 Axes>]]"
      ]
     },
     "execution_count": 2,
     "metadata": {},
     "output_type": "execute_result"
    }
   ],
   "source": [
    "# -*- coding: utf-8 -*-\n",
    "\"\"\"\n",
    "Created on Thu Feb 20 15:12:39 2020\n",
    "\n",
    "@author: Mathias Luik\n",
    "\"\"\"\n",
    "\n",
    "import backtrader as bt\n",
    "import alpaca_backtrader_api\n",
    "import pandas as pd\n",
    "\n",
    "\n",
    "ALPACA_API_KEY = 'PKV5297J2WUES7E6RZN5' #paper\n",
    "ALPACA_SECRET_KEY ='6ne0oEGvokPNBB3KvY/TfosIaXPK6KHDoXpSr8KA' #paper\n",
    "ALPACA_PAPER = True\n",
    "\n",
    "class SmaCross(bt.SignalStrategy):\n",
    "    def __init__(self):\n",
    "        sma1, sma2 = bt.ind.SMA(period=10), bt.ind.SMA(period=30)\n",
    "        crossover = bt.ind.CrossOver(sma1, sma2)\n",
    "        self.signal_add(bt.SIGNAL_LONG, crossover)\n",
    "\n",
    "is_live = False\n",
    "\n",
    "cerebro = bt.Cerebro()\n",
    "cerebro.addstrategy(SmaCross)\n",
    "\n",
    "store = alpaca_backtrader_api.AlpacaStore(key_id=ALPACA_API_KEY,\n",
    "    secret_key=ALPACA_SECRET_KEY,\n",
    "    paper=ALPACA_PAPER)\n",
    "\n",
    "if is_live:\n",
    "    broker = store.getbroker()  # or just alpaca_backtrader_api.AlpacaBroker()\n",
    "    cerebro.setbroker(broker)\n",
    "else:\n",
    "    cerebro.broker.setcash(100000)\n",
    "    cerebro.broker.setcommission(commission=0.0)\n",
    "    cerebro.addsizer(bt.sizers.PercentSizer, percents=20)\n",
    "\n",
    "DataFactory = store.getdata # or use alpaca_backtrader_api.AlpacaData\n",
    "if is_live:\n",
    "    data0 = DataFactory(\n",
    "    dataname='AAPL',\n",
    "    timeframe=bt.TimeFrame.TFrame(\"Minutes\"),\n",
    "    )\n",
    "else:\n",
    "    data0 = DataFactory(\n",
    "        dataname='AAPL',\n",
    "        timeframe=bt.TimeFrame.TFrame(\"Minutes\"),\n",
    "        fromdate=pd.Timestamp('2018-11-15'),\n",
    "        todate=pd.Timestamp('2018-11-16'),\n",
    "        historical=True)\n",
    "cerebro.adddata(data0)\n",
    "\n",
    "cerebro.run()\n",
    "print('Final Portfolio Value: %.2f' % cerebro.broker.getvalue())\n",
    "cerebro.plot()"
   ]
  },
  {
   "cell_type": "code",
   "execution_count": null,
   "metadata": {},
   "outputs": [],
   "source": []
  },
  {
   "cell_type": "code",
   "execution_count": null,
   "metadata": {},
   "outputs": [],
   "source": []
  },
  {
   "cell_type": "code",
   "execution_count": null,
   "metadata": {},
   "outputs": [],
   "source": []
  }
 ],
 "metadata": {
  "kernelspec": {
   "display_name": "Python 3",
   "language": "python",
   "name": "python3"
  },
  "language_info": {
   "codemirror_mode": {
    "name": "ipython",
    "version": 3
   },
   "file_extension": ".py",
   "mimetype": "text/x-python",
   "name": "python",
   "nbconvert_exporter": "python",
   "pygments_lexer": "ipython3",
   "version": "3.7.6"
  }
 },
 "nbformat": 4,
 "nbformat_minor": 4
}
